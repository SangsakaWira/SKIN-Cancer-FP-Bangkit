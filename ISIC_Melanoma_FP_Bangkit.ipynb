{
  "nbformat": 4,
  "nbformat_minor": 0,
  "metadata": {
    "colab": {
      "name": "ISIC Melanoma FP Bangkit.ipynb",
      "provenance": [],
      "collapsed_sections": []
    },
    "kernelspec": {
      "name": "python3",
      "display_name": "Python 3"
    },
    "accelerator": "GPU"
  },
  "cells": [
    {
      "cell_type": "code",
      "metadata": {
        "id": "wIN39O7tk-K8",
        "colab_type": "code",
        "colab": {}
      },
      "source": [
        "# TIDAK PERLU DIJALANKAN\n",
        "# !wget https://s3.amazonaws.com/isic-challenge-2019/ISIC_2019_Training_Input.zip\n",
        "# !wget https://s3.amazonaws.com/isic-challenge-2019/ISIC_2019_Training_Metadata.csv\n",
        "# !wget https://s3.amazonaws.com/isic-challenge-2019/ISIC_2019_Training_GroundTruth.csv\n",
        "# !wget https://s3.amazonaws.com/isic-challenge-2019/ISIC_2019_Test_Input.zip\n",
        "# !unzip drive/My\\ Drive/FP_ISIC_Melanoma_Dataset/ISIC_2019_Test_Input.zip -d drive/My\\ Drive/FP_ISIC_Melanoma_Dataset"
      ],
      "execution_count": null,
      "outputs": []
    },
    {
      "cell_type": "code",
      "metadata": {
        "id": "iFazJH2P3-rj",
        "colab_type": "code",
        "colab": {}
      },
      "source": [
        "# Indra\n",
        "# !unzip ISIC_2019_Test_Input.zip -d FP_ISIC_Melanoma_Dataset\n",
        "# !pip3 install pydicom"
      ],
      "execution_count": null,
      "outputs": []
    },
    {
      "cell_type": "code",
      "metadata": {
        "id": "2Np44Im3Kg7G",
        "colab_type": "code",
        "colab": {}
      },
      "source": [
        "import pandas as pd\n",
        "import os\n",
        "from shutil import copyfile\n",
        "import csv\n",
        "import numpy as np\n",
        "import tensorflow as tf\n",
        "from tensorflow.keras.preprocessing.image import ImageDataGenerator\n",
        "from os import getcwd\n",
        "import shutil\n",
        "from tensorflow.keras.optimizers import RMSprop"
      ],
      "execution_count": 3,
      "outputs": []
    },
    {
      "cell_type": "code",
      "metadata": {
        "id": "JwAj4JWwl-Oj",
        "colab_type": "code",
        "colab": {
          "base_uri": "https://localhost:8080/",
          "height": 125
        },
        "outputId": "df625490-77af-4abe-80b6-f45a914fe3bb"
      },
      "source": [
        "from google.colab import drive\n",
        "drive.mount('/content/drive')"
      ],
      "execution_count": 1,
      "outputs": [
        {
          "output_type": "stream",
          "text": [
            "Go to this URL in a browser: https://accounts.google.com/o/oauth2/auth?client_id=947318989803-6bn6qk8qdgf4n4g3pfee6491hc0brc4i.apps.googleusercontent.com&redirect_uri=urn%3aietf%3awg%3aoauth%3a2.0%3aoob&response_type=code&scope=email%20https%3a%2f%2fwww.googleapis.com%2fauth%2fdocs.test%20https%3a%2f%2fwww.googleapis.com%2fauth%2fdrive%20https%3a%2f%2fwww.googleapis.com%2fauth%2fdrive.photos.readonly%20https%3a%2f%2fwww.googleapis.com%2fauth%2fpeopleapi.readonly\n",
            "\n",
            "Enter your authorization code:\n",
            "··········\n",
            "Mounted at /content/drive\n"
          ],
          "name": "stdout"
        }
      ]
    },
    {
      "cell_type": "code",
      "metadata": {
        "id": "obkdeHme2bLy",
        "colab_type": "code",
        "colab": {
          "base_uri": "https://localhost:8080/",
          "height": 34
        },
        "outputId": "24b6671b-c3ea-4947-bfc1-318af8104e00"
      },
      "source": [
        "device_name = tf.test.gpu_device_name()\n",
        "if device_name != '/device:GPU:0':\n",
        "  raise SystemError('GPU device not found')\n",
        "print('Found GPU at: {}'.format(device_name))"
      ],
      "execution_count": 4,
      "outputs": [
        {
          "output_type": "stream",
          "text": [
            "Found GPU at: /device:GPU:0\n"
          ],
          "name": "stdout"
        }
      ]
    },
    {
      "cell_type": "code",
      "metadata": {
        "id": "NhjQBY2ya_bP",
        "colab_type": "code",
        "colab": {}
      },
      "source": [
        "# Directory for Images\n",
        "# Wira\n",
        "root_path = \"./drive/My Drive/FP_ISIC_Melanoma_Dataset/\"\n",
        "data_training_path = root_path + \"ISIC_2019_Training_Input/\"\n",
        "data_testing_path = root_path + \"ISIC_2019_Test_Input/\"\n",
        "data_training_label_path = root_path + \"ISIC_2019_Training_GroundTruth.csv\"\n",
        "data_labeled_dir = root_path + \"labeled_images/\""
      ],
      "execution_count": 5,
      "outputs": []
    },
    {
      "cell_type": "code",
      "metadata": {
        "id": "WbO3cbJRjXHB",
        "colab_type": "code",
        "colab": {}
      },
      "source": [
        "# One Time Running\n",
        "# data_image_label = pd.read_csv(data_training_label_path)\n",
        "# try:\n",
        "#   os.mkdir(data_labeled_dir)\n",
        "# except FileExistsError:\n",
        "#   pass\n",
        "# for i in data_image_label.columns:\n",
        "#   try:\n",
        "#     os.makedirs(data_labeled_dir+\"/\"+i)\n",
        "#   except FileExistsError:\n",
        "#     pass"
      ],
      "execution_count": null,
      "outputs": []
    },
    {
      "cell_type": "code",
      "metadata": {
        "id": "Ac0ep3ac4RLN",
        "colab_type": "code",
        "colab": {
          "base_uri": "https://localhost:8080/",
          "height": 402
        },
        "outputId": "2a8f06e6-2c9d-4e45-f99e-8508a8ea52db"
      },
      "source": [
        "# Metadata\n",
        "data_image_label = pd.read_csv(data_training_label_path)\n",
        "data_image_label"
      ],
      "execution_count": 6,
      "outputs": [
        {
          "output_type": "execute_result",
          "data": {
            "text/html": [
              "<div>\n",
              "<style scoped>\n",
              "    .dataframe tbody tr th:only-of-type {\n",
              "        vertical-align: middle;\n",
              "    }\n",
              "\n",
              "    .dataframe tbody tr th {\n",
              "        vertical-align: top;\n",
              "    }\n",
              "\n",
              "    .dataframe thead th {\n",
              "        text-align: right;\n",
              "    }\n",
              "</style>\n",
              "<table border=\"1\" class=\"dataframe\">\n",
              "  <thead>\n",
              "    <tr style=\"text-align: right;\">\n",
              "      <th></th>\n",
              "      <th>image</th>\n",
              "      <th>MEL</th>\n",
              "      <th>NV</th>\n",
              "      <th>BCC</th>\n",
              "      <th>AK</th>\n",
              "      <th>BKL</th>\n",
              "      <th>DF</th>\n",
              "      <th>VASC</th>\n",
              "      <th>SCC</th>\n",
              "      <th>UNK</th>\n",
              "    </tr>\n",
              "  </thead>\n",
              "  <tbody>\n",
              "    <tr>\n",
              "      <th>0</th>\n",
              "      <td>ISIC_0000000</td>\n",
              "      <td>0.0</td>\n",
              "      <td>1.0</td>\n",
              "      <td>0.0</td>\n",
              "      <td>0.0</td>\n",
              "      <td>0.0</td>\n",
              "      <td>0.0</td>\n",
              "      <td>0.0</td>\n",
              "      <td>0.0</td>\n",
              "      <td>0.0</td>\n",
              "    </tr>\n",
              "    <tr>\n",
              "      <th>1</th>\n",
              "      <td>ISIC_0000001</td>\n",
              "      <td>0.0</td>\n",
              "      <td>1.0</td>\n",
              "      <td>0.0</td>\n",
              "      <td>0.0</td>\n",
              "      <td>0.0</td>\n",
              "      <td>0.0</td>\n",
              "      <td>0.0</td>\n",
              "      <td>0.0</td>\n",
              "      <td>0.0</td>\n",
              "    </tr>\n",
              "    <tr>\n",
              "      <th>2</th>\n",
              "      <td>ISIC_0000002</td>\n",
              "      <td>1.0</td>\n",
              "      <td>0.0</td>\n",
              "      <td>0.0</td>\n",
              "      <td>0.0</td>\n",
              "      <td>0.0</td>\n",
              "      <td>0.0</td>\n",
              "      <td>0.0</td>\n",
              "      <td>0.0</td>\n",
              "      <td>0.0</td>\n",
              "    </tr>\n",
              "    <tr>\n",
              "      <th>3</th>\n",
              "      <td>ISIC_0000003</td>\n",
              "      <td>0.0</td>\n",
              "      <td>1.0</td>\n",
              "      <td>0.0</td>\n",
              "      <td>0.0</td>\n",
              "      <td>0.0</td>\n",
              "      <td>0.0</td>\n",
              "      <td>0.0</td>\n",
              "      <td>0.0</td>\n",
              "      <td>0.0</td>\n",
              "    </tr>\n",
              "    <tr>\n",
              "      <th>4</th>\n",
              "      <td>ISIC_0000004</td>\n",
              "      <td>1.0</td>\n",
              "      <td>0.0</td>\n",
              "      <td>0.0</td>\n",
              "      <td>0.0</td>\n",
              "      <td>0.0</td>\n",
              "      <td>0.0</td>\n",
              "      <td>0.0</td>\n",
              "      <td>0.0</td>\n",
              "      <td>0.0</td>\n",
              "    </tr>\n",
              "    <tr>\n",
              "      <th>...</th>\n",
              "      <td>...</td>\n",
              "      <td>...</td>\n",
              "      <td>...</td>\n",
              "      <td>...</td>\n",
              "      <td>...</td>\n",
              "      <td>...</td>\n",
              "      <td>...</td>\n",
              "      <td>...</td>\n",
              "      <td>...</td>\n",
              "      <td>...</td>\n",
              "    </tr>\n",
              "    <tr>\n",
              "      <th>25326</th>\n",
              "      <td>ISIC_0073247</td>\n",
              "      <td>0.0</td>\n",
              "      <td>0.0</td>\n",
              "      <td>1.0</td>\n",
              "      <td>0.0</td>\n",
              "      <td>0.0</td>\n",
              "      <td>0.0</td>\n",
              "      <td>0.0</td>\n",
              "      <td>0.0</td>\n",
              "      <td>0.0</td>\n",
              "    </tr>\n",
              "    <tr>\n",
              "      <th>25327</th>\n",
              "      <td>ISIC_0073248</td>\n",
              "      <td>0.0</td>\n",
              "      <td>0.0</td>\n",
              "      <td>0.0</td>\n",
              "      <td>0.0</td>\n",
              "      <td>1.0</td>\n",
              "      <td>0.0</td>\n",
              "      <td>0.0</td>\n",
              "      <td>0.0</td>\n",
              "      <td>0.0</td>\n",
              "    </tr>\n",
              "    <tr>\n",
              "      <th>25328</th>\n",
              "      <td>ISIC_0073249</td>\n",
              "      <td>1.0</td>\n",
              "      <td>0.0</td>\n",
              "      <td>0.0</td>\n",
              "      <td>0.0</td>\n",
              "      <td>0.0</td>\n",
              "      <td>0.0</td>\n",
              "      <td>0.0</td>\n",
              "      <td>0.0</td>\n",
              "      <td>0.0</td>\n",
              "    </tr>\n",
              "    <tr>\n",
              "      <th>25329</th>\n",
              "      <td>ISIC_0073251</td>\n",
              "      <td>0.0</td>\n",
              "      <td>1.0</td>\n",
              "      <td>0.0</td>\n",
              "      <td>0.0</td>\n",
              "      <td>0.0</td>\n",
              "      <td>0.0</td>\n",
              "      <td>0.0</td>\n",
              "      <td>0.0</td>\n",
              "      <td>0.0</td>\n",
              "    </tr>\n",
              "    <tr>\n",
              "      <th>25330</th>\n",
              "      <td>ISIC_0073254</td>\n",
              "      <td>0.0</td>\n",
              "      <td>0.0</td>\n",
              "      <td>0.0</td>\n",
              "      <td>0.0</td>\n",
              "      <td>1.0</td>\n",
              "      <td>0.0</td>\n",
              "      <td>0.0</td>\n",
              "      <td>0.0</td>\n",
              "      <td>0.0</td>\n",
              "    </tr>\n",
              "  </tbody>\n",
              "</table>\n",
              "<p>25331 rows × 10 columns</p>\n",
              "</div>"
            ],
            "text/plain": [
              "              image  MEL   NV  BCC   AK  BKL   DF  VASC  SCC  UNK\n",
              "0      ISIC_0000000  0.0  1.0  0.0  0.0  0.0  0.0   0.0  0.0  0.0\n",
              "1      ISIC_0000001  0.0  1.0  0.0  0.0  0.0  0.0   0.0  0.0  0.0\n",
              "2      ISIC_0000002  1.0  0.0  0.0  0.0  0.0  0.0   0.0  0.0  0.0\n",
              "3      ISIC_0000003  0.0  1.0  0.0  0.0  0.0  0.0   0.0  0.0  0.0\n",
              "4      ISIC_0000004  1.0  0.0  0.0  0.0  0.0  0.0   0.0  0.0  0.0\n",
              "...             ...  ...  ...  ...  ...  ...  ...   ...  ...  ...\n",
              "25326  ISIC_0073247  0.0  0.0  1.0  0.0  0.0  0.0   0.0  0.0  0.0\n",
              "25327  ISIC_0073248  0.0  0.0  0.0  0.0  1.0  0.0   0.0  0.0  0.0\n",
              "25328  ISIC_0073249  1.0  0.0  0.0  0.0  0.0  0.0   0.0  0.0  0.0\n",
              "25329  ISIC_0073251  0.0  1.0  0.0  0.0  0.0  0.0   0.0  0.0  0.0\n",
              "25330  ISIC_0073254  0.0  0.0  0.0  0.0  1.0  0.0   0.0  0.0  0.0\n",
              "\n",
              "[25331 rows x 10 columns]"
            ]
          },
          "metadata": {
            "tags": []
          },
          "execution_count": 6
        }
      ]
    },
    {
      "cell_type": "code",
      "metadata": {
        "id": "dEaByg1djfeH",
        "colab_type": "code",
        "colab": {}
      },
      "source": [
        "# Run One Time for processing Image\n",
        "# data_label = data_image_label[\"image\"][:]\n",
        "\n",
        "# for i,data in enumerate(data_label):\n",
        "#   image = data+\".jpg\"\n",
        "  # print(image in os.listdir())\n",
        "  # value_VASC = \"VASC\" if data_image_label.iloc[i,:][\"VASC\"] == 1.0 else False\n",
        "  # value_MEL = \"MEL\" if data_image_label.iloc[i,:][\"MEL\"] == 1.0 else False\n",
        "  # value_SCC = \"SCC\" if data_image_label.iloc[i,:][\"SCC\"] == 1.0 else False\n",
        "  # value_NV = \"NV\" if data_image_label.iloc[i,:][\"NV\"] == 1.0 else False\n",
        "  # value_DF = \"DF\" if data_image_label.iloc[i,:][\"DF\"] == 1.0 else False\n",
        "  # value_BKL = \"BKL\" if data_image_label.iloc[i,:][\"BKL\"] == 1.0 else False\n",
        "  # value_BCC = \"BCC\" if data_image_label.iloc[i,:][\"BCC\"] == 1.0 else False\n",
        "  # value_AK = \"AK\" if data_image_label.iloc[i,:][\"AK\"] == 1.0 else False\n",
        "  # images = [value_VASC,value_MEL,value_SCC,value_NV,value_DF,value_BKL,value_BCC,value_AK]\n",
        "  # for i in images:\n",
        "  #   if(i):\n",
        "  #     label = i\n",
        "  #     shutil.copy2(data_training_path+image,data_labeled_dir+label)\n",
        "\n",
        "  # print(\"{}: {}\".format(str(image),str(label)))"
      ],
      "execution_count": 7,
      "outputs": []
    },
    {
      "cell_type": "code",
      "metadata": {
        "id": "BjWB6ZfLmnNs",
        "colab_type": "code",
        "colab": {
          "base_uri": "https://localhost:8080/",
          "height": 175
        },
        "outputId": "34e60887-2f16-4018-d083-0404684b38e9"
      },
      "source": [
        "# Explore Data\n",
        "# os.listdir(data_labeled_dir+\"MEL\")\n",
        "totalImage = len(os.listdir(data_labeled_dir+\"MEL\"))+len(os.listdir(data_labeled_dir+\"BCC\"))+len(os.listdir(data_labeled_dir+\"NV\"))+len(os.listdir(data_labeled_dir+\"AK\"))+len(os.listdir(data_labeled_dir+\"VASC\"))+len(os.listdir(data_labeled_dir+\"BKL\"))+len(os.listdir(data_labeled_dir+\"SCC\"))\n",
        "print(\"Total Image for BCC: \"+str(len(os.listdir(data_labeled_dir+\"BCC\"))))\n",
        "print(\"Total Image for NV: \"+str((len(os.listdir(data_labeled_dir+\"NV\")))))\n",
        "print(\"Total Image for AK: \"+str((len(os.listdir(data_labeled_dir+\"AK\")))))\n",
        "print(\"Total Image for VASC: \"+str((len(os.listdir(data_labeled_dir+\"VASC\")))))\n",
        "print(\"Total Image for BKL: \"+str((len(os.listdir(data_labeled_dir+\"BKL\")))))\n",
        "print(\"Total Image for SCC: \"+str((len(os.listdir(data_labeled_dir+\"SCC\")))))\n",
        "print(\"Total Image for DF: \"+str((len(os.listdir(data_labeled_dir+\"DF\")))))\n",
        "print(\"Total Image for MEL: \"+str((len(os.listdir(data_labeled_dir+\"MEL\")))))\n",
        "\n",
        "# Total Image\n",
        "print(\"Total Image: \"+str(totalImage))"
      ],
      "execution_count": 9,
      "outputs": [
        {
          "output_type": "stream",
          "text": [
            "Total Image for BCC: 1361\n",
            "Total Image for NV: 9944\n",
            "Total Image for AK: 351\n",
            "Total Image for VASC: 173\n",
            "Total Image for BKL: 1817\n",
            "Total Image for SCC: 337\n",
            "Total Image for DF: 155\n",
            "Total Image for MEL: 2574\n",
            "Total Image: 16557\n"
          ],
          "name": "stdout"
        }
      ]
    },
    {
      "cell_type": "code",
      "metadata": {
        "id": "NvseAU9LmSpQ",
        "colab_type": "code",
        "colab": {}
      },
      "source": [
        "# Import all the necessary files!\n",
        "import os\n",
        "import tensorflow as tf\n",
        "from tensorflow.keras import layers\n",
        "from tensorflow.keras import Model\n",
        "from os import getcwd"
      ],
      "execution_count": 10,
      "outputs": []
    },
    {
      "cell_type": "code",
      "metadata": {
        "id": "NTvH9749k05w",
        "colab_type": "code",
        "colab": {}
      },
      "source": [
        "# Define a Callback class that stops training once accuracy reaches 97.0%\n",
        "class myCallback(tf.keras.callbacks.Callback):\n",
        "    def on_epoch_end(self, epoch, logs={}):\n",
        "        if(logs.get('accuracy') > 0.97):\n",
        "            print(\"\\nReached 97.0% accuracy so cancelling training!\")\n",
        "            self.model.stop_training = True"
      ],
      "execution_count": 11,
      "outputs": []
    },
    {
      "cell_type": "code",
      "metadata": {
        "id": "UzpZkak1z54z",
        "colab_type": "code",
        "colab": {}
      },
      "source": [
        "# Model Hyperparameter\n",
        "train_data_dir = data_labeled_dir\n",
        "BATCH_SIZE= 250\n",
        "#Default 150\n",
        "WIDTH_SIZE = 148\n",
        "HEIGHT_SIZE = 148"
      ],
      "execution_count": 13,
      "outputs": []
    },
    {
      "cell_type": "code",
      "metadata": {
        "id": "gPs7rafxz1SL",
        "colab_type": "code",
        "colab": {
          "base_uri": "https://localhost:8080/",
          "height": 52
        },
        "outputId": "33cc4259-4a61-496b-f771-4c2e437ea9e4"
      },
      "source": [
        "# WIRA\n",
        "# train_datagen = ImageDataGenerator(rescale=1./255,\n",
        "#     shear_range=0.2,\n",
        "#     zoom_range=0.2,\n",
        "#     rotation_range=20,\n",
        "#     horizontal_flip=True,\n",
        "#     validation_split=0.6) # set validation split\n",
        "\n",
        "# Training_Input = training (80%), testing(20%) #fokus\n",
        "# Test_Input = eval\n",
        "\n",
        "# INDRA\n",
        "train_datagen = ImageDataGenerator(\n",
        "    rescale=1. / 255,\n",
        "    rotation_range=40,\n",
        "    width_shift_range=0.2,\n",
        "    height_shift_range=0.2,\n",
        "    shear_range=0.2,\n",
        "    zoom_range=0.2,\n",
        "    horizontal_flip=True,\n",
        "    fill_mode='nearest',\n",
        "    validation_split=0.5\n",
        "    )\n",
        "#\n",
        "\n",
        "train_generator = train_datagen.flow_from_directory(\n",
        "    train_data_dir,\n",
        "    target_size=(WIDTH_SIZE, HEIGHT_SIZE),\n",
        "    batch_size=BATCH_SIZE,\n",
        "    class_mode='categorical',\n",
        "    subset='training') # set as training data\n",
        "\n",
        "\n",
        "# WIRA\n",
        "validation_generator = train_datagen.flow_from_directory(\n",
        "    train_data_dir, # same directory as training data\n",
        "    target_size=(WIDTH_SIZE, HEIGHT_SIZE),\n",
        "    batch_size=BATCH_SIZE,\n",
        "    class_mode='categorical',\n",
        "    subset='validation') # set as validation data"
      ],
      "execution_count": 15,
      "outputs": [
        {
          "output_type": "stream",
          "text": [
            "Found 8359 images belonging to 8 classes.\n",
            "Found 8353 images belonging to 8 classes.\n"
          ],
          "name": "stdout"
        }
      ]
    },
    {
      "cell_type": "code",
      "metadata": {
        "id": "f7QEU5an0mJR",
        "colab_type": "code",
        "colab": {}
      },
      "source": [
        "# Define the model\n",
        "callbacks = myCallback()\n",
        "# WIRA\n",
        "# Use no more than 2 Conv2D and 2 MaxPooling2D\n",
        "model = tf.keras.models.Sequential([\n",
        "    # Your Code Here\n",
        "    # This is the first convolution\n",
        "    tf.keras.layers.Conv2D(64,(3,3), activation='relu', input_shape=(WIDTH_SIZE, HEIGHT_SIZE,3)),\n",
        "    tf.keras.layers.MaxPooling2D(2, 2),\n",
        "    tf.keras.layers.Conv2D(32,(3,3), activation='relu'),\n",
        "    tf.keras.layers.MaxPooling2D(2,2),\n",
        "    tf.keras.layers.Flatten(),\n",
        "    tf.keras.layers.Dropout(0.2),\n",
        "    tf.keras.layers.Dense(128, activation='relu'),\n",
        "    tf.keras.layers.Dense(8, activation='softmax')]\n",
        "    )\n",
        "\n",
        "# Compile Model. \n",
        "model.compile(loss = 'categorical_crossentropy', optimizer=RMSprop(lr=0.001), metrics=['accuracy'])\n",
        "\n",
        "# Compile Model. \n",
        "# model.compile(loss = 'categorical_crossentropy', optimizer=RMSprop(lr=0.001), metrics=['acc'])\n",
        "# model.compile(loss = 'sparse_categorical_crossentropy', optimizer='adam', metrics=['accuracy'])\n",
        "\n",
        "# Train the Model\n",
        "# history = model.fit_generator(train_generator,epochs = 3,validation_data = validation_generator)"
      ],
      "execution_count": 16,
      "outputs": []
    },
    {
      "cell_type": "code",
      "metadata": {
        "id": "zN25Zhzl06Xo",
        "colab_type": "code",
        "colab": {
          "base_uri": "https://localhost:8080/",
          "height": 34
        },
        "outputId": "108da5c1-5c49-4658-ce38-6d810e3120ee"
      },
      "source": [
        "# WIRA\n",
        "# history = model.fit(train_generator,epochs = 1)\n",
        "\n",
        "# INDRA\n",
        "history = model.fit(\n",
        "            train_generator,\n",
        "            validation_data = validation_generator,\n",
        "            epochs = 100,\n",
        "            validation_steps = 3,\n",
        "            verbose = 2)"
      ],
      "execution_count": null,
      "outputs": [
        {
          "output_type": "stream",
          "text": [
            "Epoch 1/100\n"
          ],
          "name": "stdout"
        }
      ]
    },
    {
      "cell_type": "code",
      "metadata": {
        "id": "Bbpm2qYBjkbJ",
        "colab_type": "code",
        "colab": {
          "base_uri": "https://localhost:8080/",
          "height": 232
        },
        "outputId": "5197de13-7190-46bf-bde4-5275e045eccb"
      },
      "source": [
        "import matplotlib.pyplot as plt\n",
        "plt.plot(history.history[\"accuracy\"])\n",
        "plt.title(\"Accuracy\")\n",
        "plt.ylabel('accuracy')\n",
        "plt.xlabel('epochs')"
      ],
      "execution_count": null,
      "outputs": [
        {
          "output_type": "error",
          "ename": "NameError",
          "evalue": "ignored",
          "traceback": [
            "\u001b[0;31m---------------------------------------------------------------------------\u001b[0m",
            "\u001b[0;31mNameError\u001b[0m                                 Traceback (most recent call last)",
            "\u001b[0;32m<ipython-input-1-4701c8df3531>\u001b[0m in \u001b[0;36m<module>\u001b[0;34m()\u001b[0m\n\u001b[1;32m      1\u001b[0m \u001b[0;32mimport\u001b[0m \u001b[0mmatplotlib\u001b[0m\u001b[0;34m.\u001b[0m\u001b[0mpyplot\u001b[0m \u001b[0;32mas\u001b[0m \u001b[0mplt\u001b[0m\u001b[0;34m\u001b[0m\u001b[0;34m\u001b[0m\u001b[0m\n\u001b[0;32m----> 2\u001b[0;31m \u001b[0mplt\u001b[0m\u001b[0;34m.\u001b[0m\u001b[0mplot\u001b[0m\u001b[0;34m(\u001b[0m\u001b[0mhistory\u001b[0m\u001b[0;34m.\u001b[0m\u001b[0mhistory\u001b[0m\u001b[0;34m[\u001b[0m\u001b[0;34m\"accuracy\"\u001b[0m\u001b[0;34m]\u001b[0m\u001b[0;34m)\u001b[0m\u001b[0;34m\u001b[0m\u001b[0;34m\u001b[0m\u001b[0m\n\u001b[0m\u001b[1;32m      3\u001b[0m \u001b[0mplt\u001b[0m\u001b[0;34m.\u001b[0m\u001b[0mtitle\u001b[0m\u001b[0;34m(\u001b[0m\u001b[0;34m\"Accuracy\"\u001b[0m\u001b[0;34m)\u001b[0m\u001b[0;34m\u001b[0m\u001b[0;34m\u001b[0m\u001b[0m\n\u001b[1;32m      4\u001b[0m \u001b[0mplt\u001b[0m\u001b[0;34m.\u001b[0m\u001b[0mylabel\u001b[0m\u001b[0;34m(\u001b[0m\u001b[0;34m'accuracy'\u001b[0m\u001b[0;34m)\u001b[0m\u001b[0;34m\u001b[0m\u001b[0;34m\u001b[0m\u001b[0m\n\u001b[1;32m      5\u001b[0m \u001b[0mplt\u001b[0m\u001b[0;34m.\u001b[0m\u001b[0mxlabel\u001b[0m\u001b[0;34m(\u001b[0m\u001b[0;34m'epochs'\u001b[0m\u001b[0;34m)\u001b[0m\u001b[0;34m\u001b[0m\u001b[0;34m\u001b[0m\u001b[0m\n",
            "\u001b[0;31mNameError\u001b[0m: name 'history' is not defined"
          ]
        }
      ]
    },
    {
      "cell_type": "code",
      "metadata": {
        "id": "RGUQvHORs6Fh",
        "colab_type": "code",
        "colab": {}
      },
      "source": [
        "# model = tf.keras.models.Sequential()\n",
        "# model.save(root_path+\"model_fp.h5\")"
      ],
      "execution_count": null,
      "outputs": []
    },
    {
      "cell_type": "code",
      "metadata": {
        "id": "QClSip7Ts7OA",
        "colab_type": "code",
        "colab": {}
      },
      "source": [
        "from tensorflow.keras.models import load_model\n",
        " \n",
        "# load model\n",
        "model = load_model(root_path+'model_fp.h5')\n",
        "# summarize model.\n",
        "# model.summary()"
      ],
      "execution_count": null,
      "outputs": []
    },
    {
      "cell_type": "code",
      "metadata": {
        "id": "MS5GHXKFn0Fs",
        "colab_type": "code",
        "colab": {
          "base_uri": "https://localhost:8080/",
          "height": 629
        },
        "outputId": "100982b1-a0fb-4811-a4c8-281773e4029c"
      },
      "source": [
        "model.summary()"
      ],
      "execution_count": null,
      "outputs": [
        {
          "output_type": "stream",
          "text": [
            "Model: \"sequential_4\"\n",
            "_________________________________________________________________\n",
            "Layer (type)                 Output Shape              Param #   \n",
            "=================================================================\n",
            "conv2d_12 (Conv2D)           (None, 148, 148, 64)      1792      \n",
            "_________________________________________________________________\n",
            "max_pooling2d_12 (MaxPooling (None, 74, 74, 64)        0         \n",
            "_________________________________________________________________\n",
            "conv2d_13 (Conv2D)           (None, 72, 72, 32)        18464     \n",
            "_________________________________________________________________\n",
            "max_pooling2d_13 (MaxPooling (None, 36, 36, 32)        0         \n",
            "_________________________________________________________________\n",
            "conv2d_14 (Conv2D)           (None, 34, 34, 32)        9248      \n",
            "_________________________________________________________________\n",
            "max_pooling2d_14 (MaxPooling (None, 17, 17, 32)        0         \n",
            "_________________________________________________________________\n",
            "flatten_4 (Flatten)          (None, 9248)              0         \n",
            "_________________________________________________________________\n",
            "dropout_4 (Dropout)          (None, 9248)              0         \n",
            "_________________________________________________________________\n",
            "dense_12 (Dense)             (None, 128)               1183872   \n",
            "_________________________________________________________________\n",
            "dense_13 (Dense)             (None, 128)               16512     \n",
            "_________________________________________________________________\n",
            "dense_14 (Dense)             (None, 128)               16512     \n",
            "_________________________________________________________________\n",
            "dense_15 (Dense)             (None, 128)               16512     \n",
            "_________________________________________________________________\n",
            "dense_16 (Dense)             (None, 8)                 1032      \n",
            "=================================================================\n",
            "Total params: 1,263,944\n",
            "Trainable params: 1,263,944\n",
            "Non-trainable params: 0\n",
            "_________________________________________________________________\n"
          ],
          "name": "stdout"
        }
      ]
    },
    {
      "cell_type": "code",
      "metadata": {
        "id": "aiWdPVJHm9gO",
        "colab_type": "code",
        "colab": {
          "base_uri": "https://localhost:8080/",
          "height": 233
        },
        "outputId": "72372165-c414-4724-cbe8-2702476897e1"
      },
      "source": [
        "os.listdir(root_path)"
      ],
      "execution_count": null,
      "outputs": [
        {
          "output_type": "execute_result",
          "data": {
            "text/plain": [
              "['ISIC_2019_Training_Input.zip',\n",
              " 'ISIC_2019_Training_GroundTruth.csv',\n",
              " 'ISIC_2019_Test_Input.zip',\n",
              " 'ISIC_2019_Test_Metadata.csv',\n",
              " 'ISIC_2019_Test_Input',\n",
              " 'ISIC_2019_Training_Input',\n",
              " 'ISIC_2019_Training_Metadata.csv',\n",
              " 'ISIC_2019_Training_Metadata.gsheet',\n",
              " 'labeled_images',\n",
              " 'model_history.h5',\n",
              " 'model_fp.h5',\n",
              " 'model_fp_72.tflite']"
            ]
          },
          "metadata": {
            "tags": []
          },
          "execution_count": 15
        }
      ]
    },
    {
      "cell_type": "code",
      "metadata": {
        "id": "k8EP6j-ZCg4K",
        "colab_type": "code",
        "colab": {}
      },
      "source": [
        "data_testing_path_image = root_path + \"ISIC_2019_Test_Input/ISIC_0071804.jpg\"\n",
        "# os.listdir(data_testing_path)"
      ],
      "execution_count": null,
      "outputs": []
    },
    {
      "cell_type": "code",
      "metadata": {
        "id": "OFj4MNgQDdeh",
        "colab_type": "code",
        "colab": {
          "base_uri": "https://localhost:8080/",
          "height": 34
        },
        "outputId": "405ee27a-a271-4c06-b5f9-459dff0955c4"
      },
      "source": [
        "data_testing_path_image"
      ],
      "execution_count": null,
      "outputs": [
        {
          "output_type": "execute_result",
          "data": {
            "text/plain": [
              "'./drive/My Drive/FP_ISIC_Melanoma_Dataset/ISIC_2019_Test_Input/ISIC_0071804.jpg'"
            ]
          },
          "metadata": {
            "tags": []
          },
          "execution_count": 46
        }
      ]
    },
    {
      "cell_type": "code",
      "metadata": {
        "id": "yg4N7cxfBlhC",
        "colab_type": "code",
        "colab": {}
      },
      "source": [
        "from keras.preprocessing.image import load_img\n",
        "from keras.preprocessing.image import img_to_array\n",
        "from keras.models import load_model\n",
        " \n",
        "# load and prepare the image\n",
        "def load_image(filename):\n",
        "\t# load the image\n",
        "\timg = load_img(filename, target_size=(128, 128))\n",
        "\t# convert to array\n",
        "\timg = img_to_array(img)\n",
        "\t# reshape into a single sample with 3 channels\n",
        "\timg = img.reshape(1, 128, 128, 3)\n",
        "\t# center pixel data\n",
        "\timg = img.astype('float32')\n",
        "\timg = img - [123.68, 116.779, 103.939]\n",
        "\treturn img\n",
        "\n",
        "image = load_image(data_testing_path_image)"
      ],
      "execution_count": null,
      "outputs": []
    },
    {
      "cell_type": "code",
      "metadata": {
        "id": "RarS88D2s9UG",
        "colab_type": "code",
        "colab": {}
      },
      "source": [
        "# model = loa"
      ],
      "execution_count": null,
      "outputs": []
    },
    {
      "cell_type": "code",
      "metadata": {
        "id": "DWiHOFe8DGSi",
        "colab_type": "code",
        "colab": {
          "base_uri": "https://localhost:8080/",
          "height": 34
        },
        "outputId": "f68cbc33-3b17-432e-814f-e611c914ffcb"
      },
      "source": [
        "model.predict(image)"
      ],
      "execution_count": null,
      "outputs": [
        {
          "output_type": "execute_result",
          "data": {
            "text/plain": [
              "array([[0., 0., 0., 0., 0., 1., 0., 0.]], dtype=float32)"
            ]
          },
          "metadata": {
            "tags": []
          },
          "execution_count": 48
        }
      ]
    },
    {
      "cell_type": "code",
      "metadata": {
        "id": "SOg0yMrmDlhb",
        "colab_type": "code",
        "colab": {}
      },
      "source": [
        "# Converting a tf.Keras model to a TensorFlow Lite model.\n",
        "converter = tf.lite.TFLiteConverter.from_keras_model(model)"
      ],
      "execution_count": null,
      "outputs": []
    },
    {
      "cell_type": "code",
      "metadata": {
        "id": "M6R8rz2gRnWm",
        "colab_type": "code",
        "colab": {}
      },
      "source": [
        "tflitemodel = converter.convert()"
      ],
      "execution_count": null,
      "outputs": []
    },
    {
      "cell_type": "code",
      "metadata": {
        "id": "bRLiyw1vTZ8R",
        "colab_type": "code",
        "colab": {}
      },
      "source": [
        "with open(\"model_fp_72.tflite\",\"wb\") as f:\n",
        "  f.write(tflitemodel)"
      ],
      "execution_count": null,
      "outputs": []
    },
    {
      "cell_type": "code",
      "metadata": {
        "id": "kHoZ75aLTouo",
        "colab_type": "code",
        "colab": {
          "base_uri": "https://localhost:8080/",
          "height": 51
        },
        "outputId": "3301819d-1f78-4c84-bf6d-df5563866e21"
      },
      "source": [
        "!ls"
      ],
      "execution_count": null,
      "outputs": [
        {
          "output_type": "stream",
          "text": [
            "drive\t   model_fp_72.tflite\t      model_fp.tflite\tsample_data\n",
            "model1.h5  model_fp_converted.tflite  model_history.h5\n"
          ],
          "name": "stdout"
        }
      ]
    },
    {
      "cell_type": "code",
      "metadata": {
        "id": "dA1EweoST0R4",
        "colab_type": "code",
        "colab": {
          "base_uri": "https://localhost:8080/",
          "height": 34
        },
        "outputId": "fcb7e361-d321-4de2-e126-77ef65051d22"
      },
      "source": [
        "shutil.copy2(\"model_fp_72.tflite\",root_path)"
      ],
      "execution_count": null,
      "outputs": [
        {
          "output_type": "execute_result",
          "data": {
            "text/plain": [
              "'./drive/My Drive/FP_ISIC_Melanoma_Dataset/model_fp_72.tflite'"
            ]
          },
          "metadata": {
            "tags": []
          },
          "execution_count": 62
        }
      ]
    },
    {
      "cell_type": "code",
      "metadata": {
        "id": "f7ETufNlUVU_",
        "colab_type": "code",
        "colab": {}
      },
      "source": [
        ""
      ],
      "execution_count": null,
      "outputs": []
    }
  ]
}